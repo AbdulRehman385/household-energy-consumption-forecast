{
  "cells": [
    {
      "cell_type": "code",
      "execution_count": null,
      "metadata": {
        "id": "IRJ9jFR-E-NB"
      },
      "outputs": [],
      "source": [
        "!mkdir -p ~/.kaggle\n",
        "!cp kaggle.json ~/.kaggle/\n",
        "!chmod 600 ~/.kaggle/kaggle.json"
      ]
    },
    {
      "cell_type": "code",
      "execution_count": null,
      "metadata": {
        "colab": {
          "base_uri": "https://localhost:8080/"
        },
        "id": "2LwBohNMFFST",
        "outputId": "7aaa9e51-5314-4a1c-ba57-d8c5aa88e0d9"
      },
      "outputs": [
        {
          "output_type": "stream",
          "name": "stdout",
          "text": [
            "Dataset URL: https://www.kaggle.com/datasets/uciml/electric-power-consumption-data-set\n",
            "License(s): DbCL-1.0\n",
            "electric-power-consumption-data-set.zip: Skipping, found more recently modified local copy (use --force to force download)\n"
          ]
        }
      ],
      "source": [
        "!kaggle datasets download -d uciml/electric-power-consumption-data-set"
      ]
    },
    {
      "cell_type": "code",
      "execution_count": null,
      "metadata": {
        "id": "GamnIHm0GrZC"
      },
      "outputs": [],
      "source": [
        "import zipfile\n",
        "zip_ref =  zipfile.ZipFile(r'/content/electric-power-consumption-data-set.zip', 'r')\n",
        "zip_ref.extractall('/content')\n",
        "zip_ref.close()"
      ]
    },
    {
      "cell_type": "code",
      "execution_count": null,
      "metadata": {
        "colab": {
          "base_uri": "https://localhost:8080/"
        },
        "id": "PLaVcpEDb4k8",
        "outputId": "97b4cd09-6f30-4cd1-8b6f-3016356b0bd1"
      },
      "outputs": [
        {
          "output_type": "stream",
          "name": "stdout",
          "text": [
            "Found existing installation: scikit-learn 1.5.2\n",
            "Uninstalling scikit-learn-1.5.2:\n",
            "  Successfully uninstalled scikit-learn-1.5.2\n",
            "Collecting scikit-learn==1.5.2\n",
            "  Using cached scikit_learn-1.5.2-cp310-cp310-manylinux_2_17_x86_64.manylinux2014_x86_64.whl.metadata (13 kB)\n",
            "Requirement already satisfied: numpy>=1.19.5 in /usr/local/lib/python3.10/dist-packages (from scikit-learn==1.5.2) (1.26.4)\n",
            "Requirement already satisfied: scipy>=1.6.0 in /usr/local/lib/python3.10/dist-packages (from scikit-learn==1.5.2) (1.13.1)\n",
            "Requirement already satisfied: joblib>=1.2.0 in /usr/local/lib/python3.10/dist-packages (from scikit-learn==1.5.2) (1.4.2)\n",
            "Requirement already satisfied: threadpoolctl>=3.1.0 in /usr/local/lib/python3.10/dist-packages (from scikit-learn==1.5.2) (3.5.0)\n",
            "Using cached scikit_learn-1.5.2-cp310-cp310-manylinux_2_17_x86_64.manylinux2014_x86_64.whl (13.3 MB)\n",
            "Installing collected packages: scikit-learn\n",
            "Successfully installed scikit-learn-1.5.2\n"
          ]
        }
      ],
      "source": [
        "!pip uninstall -y scikit-learn\n",
        "!pip install scikit-learn==1.5.2"
      ]
    },
    {
      "cell_type": "markdown",
      "source": [
        "### Introduction:\n",
        "Household energy consumption has become a significant area of research as the world moves towards optimizing energy usage and integrating renewable energy sources. In this project, we analyze the Household Electric Power Consumption dataset, which contains measurements of electric power consumption for a single household over nearly four years. The goal is to forecast Global Active Power—a key metric representing the active power consumed by the household—using time-series modeling techniques.\n",
        "\n",
        "Given the temporal nature of the data, a Long Short-Term Memory (LSTM) neural network, a type of recurrent neural network (RNN) suited for sequential data, was employed. The LSTM model can capture both short-term and long-term dependencies in the data, making it an ideal choice for time-series forecasting. Key preprocessing steps included creating lag-based input sequences and scaling the features to improve model convergence.\n",
        "\n",
        "To evaluate the performance of the model, metrics such as Mean Absolute Error (MAE), Root Mean Squared Error (RMSE), and Mean Absolute Percentage Error (MAPE) were calculated on a test dataset. These metrics provide insights into the model's predictive accuracy and its ability to generalize.\n",
        "\n"
      ],
      "metadata": {
        "id": "QUIay2WgEHyQ"
      }
    },
    {
      "cell_type": "markdown",
      "metadata": {
        "id": "jnGvmpffG395"
      },
      "source": [
        "### Import Libraries:"
      ]
    },
    {
      "cell_type": "code",
      "execution_count": null,
      "metadata": {
        "id": "7KM3Uos4Gy_c"
      },
      "outputs": [],
      "source": [
        "# Basic Libraries\n",
        "import numpy as np\n",
        "import pandas as pd\n",
        "\n",
        "# Data Visualizaion libraries\n",
        "import matplotlib.pyplot as plt\n",
        "import seaborn as sns\n",
        "\n",
        "# ML libraries\n",
        "from sklearn.preprocessing import StandardScaler\n",
        "from sklearn.model_selection import train_test_split, RandomizedSearchCV\n",
        "\n",
        "# DL Libraries\n",
        "from tensorflow.keras import models, layers\n",
        "from tensorflow.keras.callbacks import EarlyStopping\n",
        "\n",
        "# Warning text elimination\n",
        "import warnings\n",
        "warnings.filterwarnings('ignore')"
      ]
    },
    {
      "cell_type": "markdown",
      "metadata": {
        "id": "C6hp_jYcP8uQ"
      },
      "source": [
        "### Helping Functions:"
      ]
    },
    {
      "cell_type": "code",
      "execution_count": null,
      "metadata": {
        "id": "FC1fi-3bP_qR"
      },
      "outputs": [],
      "source": [
        "from sklearn.metrics import confusion_matrix, classification_report, precision_recall_fscore_support,roc_curve, auc, accuracy_score\n",
        "\n",
        "# Model Evaluation\n",
        "def model_evaluation(yt, yp):\n",
        "    results = {}\n",
        "    results['accuracy'] = accuracy_score(yt, yp)\n",
        "\n",
        "    precision, recall, fscore, _ = precision_recall_fscore_support(yt, yp, average = 'weighted')\n",
        "    results['precision'] = precision\n",
        "    results['recall'] = recall\n",
        "    results['fscore'] = fscore\n",
        "\n",
        "    metrics = list(results.keys())\n",
        "    values = list(results.values())\n",
        "\n",
        "    ax = sns.barplot(x = metrics, y = values, palette = 'viridis')\n",
        "    plt.title('Model Evaluation Metrics')\n",
        "    plt.ylim(0,1)\n",
        "    plt.ylabel('Value')\n",
        "\n",
        "    for i, v in enumerate(values):\n",
        "        plt.text(i, v/2, f'{v: 0.2f}', ha = 'center', va = 'center', color = 'white',\n",
        "                fontsize = 12)\n",
        "    plt.show()\n",
        "\n",
        "# Classification Report\n",
        "def class_report(yt, yp):\n",
        "    cr = pd.DataFrame(classification_report(yt, yp, output_dict = True))\n",
        "    return cr.T.style.background_gradient(cmap = 'Blues', axis = 0)\n",
        "\n",
        "# Confusion Matrix\n",
        "def conf_matrix(yt, yp):\n",
        "    cm = confusion_matrix(yt, yp)\n",
        "    sns.heatmap(cm, annot = True, linecolor = 'black', fmt = '0.2f', cmap = 'Blues',\n",
        "               linewidths = 0.01)\n",
        "    plt.title('Confusion Matrix')\n",
        "    plt.xlabel('Predicted Class')\n",
        "    plt.ylabel('Actual Class')\n",
        "    plt.show()\n",
        "\n",
        "def plot_roc(yt, yp):\n",
        "    fpr, tpr, thr = roc_curve(yt, yp)\n",
        "    roc_auc = auc(fpr, tpr)\n",
        "\n",
        "    plt.figure(figsize = (6,6))\n",
        "    plt.plot(fpr, tpr, color = 'darkorange', lw=2,\n",
        "            label = f\"ROC_CURVE (Area = {roc_auc : 0.3f})\")\n",
        "    plt.plot([0.0, 1.0], [0.0, 1.0], lw=2, color = 'navy', linestyle = '--')\n",
        "    plt.xlim([-0.01, 1.05])\n",
        "    plt.ylim([0.0, 1.05])\n",
        "    plt.xlabel('False Positive Rate')\n",
        "    plt.ylabel('True Positive Rate')\n",
        "    plt.legend(loc = 'lower right')\n",
        "    plt.show()"
      ]
    },
    {
      "cell_type": "markdown",
      "metadata": {
        "id": "_KNn4i1Zqtg8"
      },
      "source": [
        "### Exploratory Data Analysis:"
      ]
    },
    {
      "cell_type": "code",
      "execution_count": null,
      "metadata": {
        "id": "8hDdyiw79r4w",
        "colab": {
          "base_uri": "https://localhost:8080/",
          "height": 226
        },
        "outputId": "6a030794-4c00-4361-a799-7bf1127dfba8"
      },
      "outputs": [
        {
          "output_type": "execute_result",
          "data": {
            "text/plain": [
              "         Date      Time Global_active_power Global_reactive_power  Voltage  \\\n",
              "0  16/12/2006  17:24:00               4.216                 0.418  234.840   \n",
              "1  16/12/2006  17:25:00               5.360                 0.436  233.630   \n",
              "2  16/12/2006  17:26:00               5.374                 0.498  233.290   \n",
              "3  16/12/2006  17:27:00               5.388                 0.502  233.740   \n",
              "4  16/12/2006  17:28:00               3.666                 0.528  235.680   \n",
              "\n",
              "  Global_intensity Sub_metering_1 Sub_metering_2  Sub_metering_3  \n",
              "0           18.400          0.000          1.000            17.0  \n",
              "1           23.000          0.000          1.000            16.0  \n",
              "2           23.000          0.000          2.000            17.0  \n",
              "3           23.000          0.000          1.000            17.0  \n",
              "4           15.800          0.000          1.000            17.0  "
            ],
            "text/html": [
              "\n",
              "  <div id=\"df-1a4f5790-1d7a-4bc8-9073-014742856cdb\" class=\"colab-df-container\">\n",
              "    <div>\n",
              "<style scoped>\n",
              "    .dataframe tbody tr th:only-of-type {\n",
              "        vertical-align: middle;\n",
              "    }\n",
              "\n",
              "    .dataframe tbody tr th {\n",
              "        vertical-align: top;\n",
              "    }\n",
              "\n",
              "    .dataframe thead th {\n",
              "        text-align: right;\n",
              "    }\n",
              "</style>\n",
              "<table border=\"1\" class=\"dataframe\">\n",
              "  <thead>\n",
              "    <tr style=\"text-align: right;\">\n",
              "      <th></th>\n",
              "      <th>Date</th>\n",
              "      <th>Time</th>\n",
              "      <th>Global_active_power</th>\n",
              "      <th>Global_reactive_power</th>\n",
              "      <th>Voltage</th>\n",
              "      <th>Global_intensity</th>\n",
              "      <th>Sub_metering_1</th>\n",
              "      <th>Sub_metering_2</th>\n",
              "      <th>Sub_metering_3</th>\n",
              "    </tr>\n",
              "  </thead>\n",
              "  <tbody>\n",
              "    <tr>\n",
              "      <th>0</th>\n",
              "      <td>16/12/2006</td>\n",
              "      <td>17:24:00</td>\n",
              "      <td>4.216</td>\n",
              "      <td>0.418</td>\n",
              "      <td>234.840</td>\n",
              "      <td>18.400</td>\n",
              "      <td>0.000</td>\n",
              "      <td>1.000</td>\n",
              "      <td>17.0</td>\n",
              "    </tr>\n",
              "    <tr>\n",
              "      <th>1</th>\n",
              "      <td>16/12/2006</td>\n",
              "      <td>17:25:00</td>\n",
              "      <td>5.360</td>\n",
              "      <td>0.436</td>\n",
              "      <td>233.630</td>\n",
              "      <td>23.000</td>\n",
              "      <td>0.000</td>\n",
              "      <td>1.000</td>\n",
              "      <td>16.0</td>\n",
              "    </tr>\n",
              "    <tr>\n",
              "      <th>2</th>\n",
              "      <td>16/12/2006</td>\n",
              "      <td>17:26:00</td>\n",
              "      <td>5.374</td>\n",
              "      <td>0.498</td>\n",
              "      <td>233.290</td>\n",
              "      <td>23.000</td>\n",
              "      <td>0.000</td>\n",
              "      <td>2.000</td>\n",
              "      <td>17.0</td>\n",
              "    </tr>\n",
              "    <tr>\n",
              "      <th>3</th>\n",
              "      <td>16/12/2006</td>\n",
              "      <td>17:27:00</td>\n",
              "      <td>5.388</td>\n",
              "      <td>0.502</td>\n",
              "      <td>233.740</td>\n",
              "      <td>23.000</td>\n",
              "      <td>0.000</td>\n",
              "      <td>1.000</td>\n",
              "      <td>17.0</td>\n",
              "    </tr>\n",
              "    <tr>\n",
              "      <th>4</th>\n",
              "      <td>16/12/2006</td>\n",
              "      <td>17:28:00</td>\n",
              "      <td>3.666</td>\n",
              "      <td>0.528</td>\n",
              "      <td>235.680</td>\n",
              "      <td>15.800</td>\n",
              "      <td>0.000</td>\n",
              "      <td>1.000</td>\n",
              "      <td>17.0</td>\n",
              "    </tr>\n",
              "  </tbody>\n",
              "</table>\n",
              "</div>\n",
              "    <div class=\"colab-df-buttons\">\n",
              "\n",
              "  <div class=\"colab-df-container\">\n",
              "    <button class=\"colab-df-convert\" onclick=\"convertToInteractive('df-1a4f5790-1d7a-4bc8-9073-014742856cdb')\"\n",
              "            title=\"Convert this dataframe to an interactive table.\"\n",
              "            style=\"display:none;\">\n",
              "\n",
              "  <svg xmlns=\"http://www.w3.org/2000/svg\" height=\"24px\" viewBox=\"0 -960 960 960\">\n",
              "    <path d=\"M120-120v-720h720v720H120Zm60-500h600v-160H180v160Zm220 220h160v-160H400v160Zm0 220h160v-160H400v160ZM180-400h160v-160H180v160Zm440 0h160v-160H620v160ZM180-180h160v-160H180v160Zm440 0h160v-160H620v160Z\"/>\n",
              "  </svg>\n",
              "    </button>\n",
              "\n",
              "  <style>\n",
              "    .colab-df-container {\n",
              "      display:flex;\n",
              "      gap: 12px;\n",
              "    }\n",
              "\n",
              "    .colab-df-convert {\n",
              "      background-color: #E8F0FE;\n",
              "      border: none;\n",
              "      border-radius: 50%;\n",
              "      cursor: pointer;\n",
              "      display: none;\n",
              "      fill: #1967D2;\n",
              "      height: 32px;\n",
              "      padding: 0 0 0 0;\n",
              "      width: 32px;\n",
              "    }\n",
              "\n",
              "    .colab-df-convert:hover {\n",
              "      background-color: #E2EBFA;\n",
              "      box-shadow: 0px 1px 2px rgba(60, 64, 67, 0.3), 0px 1px 3px 1px rgba(60, 64, 67, 0.15);\n",
              "      fill: #174EA6;\n",
              "    }\n",
              "\n",
              "    .colab-df-buttons div {\n",
              "      margin-bottom: 4px;\n",
              "    }\n",
              "\n",
              "    [theme=dark] .colab-df-convert {\n",
              "      background-color: #3B4455;\n",
              "      fill: #D2E3FC;\n",
              "    }\n",
              "\n",
              "    [theme=dark] .colab-df-convert:hover {\n",
              "      background-color: #434B5C;\n",
              "      box-shadow: 0px 1px 3px 1px rgba(0, 0, 0, 0.15);\n",
              "      filter: drop-shadow(0px 1px 2px rgba(0, 0, 0, 0.3));\n",
              "      fill: #FFFFFF;\n",
              "    }\n",
              "  </style>\n",
              "\n",
              "    <script>\n",
              "      const buttonEl =\n",
              "        document.querySelector('#df-1a4f5790-1d7a-4bc8-9073-014742856cdb button.colab-df-convert');\n",
              "      buttonEl.style.display =\n",
              "        google.colab.kernel.accessAllowed ? 'block' : 'none';\n",
              "\n",
              "      async function convertToInteractive(key) {\n",
              "        const element = document.querySelector('#df-1a4f5790-1d7a-4bc8-9073-014742856cdb');\n",
              "        const dataTable =\n",
              "          await google.colab.kernel.invokeFunction('convertToInteractive',\n",
              "                                                    [key], {});\n",
              "        if (!dataTable) return;\n",
              "\n",
              "        const docLinkHtml = 'Like what you see? Visit the ' +\n",
              "          '<a target=\"_blank\" href=https://colab.research.google.com/notebooks/data_table.ipynb>data table notebook</a>'\n",
              "          + ' to learn more about interactive tables.';\n",
              "        element.innerHTML = '';\n",
              "        dataTable['output_type'] = 'display_data';\n",
              "        await google.colab.output.renderOutput(dataTable, element);\n",
              "        const docLink = document.createElement('div');\n",
              "        docLink.innerHTML = docLinkHtml;\n",
              "        element.appendChild(docLink);\n",
              "      }\n",
              "    </script>\n",
              "  </div>\n",
              "\n",
              "\n",
              "<div id=\"df-954fd32d-f765-43d3-922f-a1226ff12935\">\n",
              "  <button class=\"colab-df-quickchart\" onclick=\"quickchart('df-954fd32d-f765-43d3-922f-a1226ff12935')\"\n",
              "            title=\"Suggest charts\"\n",
              "            style=\"display:none;\">\n",
              "\n",
              "<svg xmlns=\"http://www.w3.org/2000/svg\" height=\"24px\"viewBox=\"0 0 24 24\"\n",
              "     width=\"24px\">\n",
              "    <g>\n",
              "        <path d=\"M19 3H5c-1.1 0-2 .9-2 2v14c0 1.1.9 2 2 2h14c1.1 0 2-.9 2-2V5c0-1.1-.9-2-2-2zM9 17H7v-7h2v7zm4 0h-2V7h2v10zm4 0h-2v-4h2v4z\"/>\n",
              "    </g>\n",
              "</svg>\n",
              "  </button>\n",
              "\n",
              "<style>\n",
              "  .colab-df-quickchart {\n",
              "      --bg-color: #E8F0FE;\n",
              "      --fill-color: #1967D2;\n",
              "      --hover-bg-color: #E2EBFA;\n",
              "      --hover-fill-color: #174EA6;\n",
              "      --disabled-fill-color: #AAA;\n",
              "      --disabled-bg-color: #DDD;\n",
              "  }\n",
              "\n",
              "  [theme=dark] .colab-df-quickchart {\n",
              "      --bg-color: #3B4455;\n",
              "      --fill-color: #D2E3FC;\n",
              "      --hover-bg-color: #434B5C;\n",
              "      --hover-fill-color: #FFFFFF;\n",
              "      --disabled-bg-color: #3B4455;\n",
              "      --disabled-fill-color: #666;\n",
              "  }\n",
              "\n",
              "  .colab-df-quickchart {\n",
              "    background-color: var(--bg-color);\n",
              "    border: none;\n",
              "    border-radius: 50%;\n",
              "    cursor: pointer;\n",
              "    display: none;\n",
              "    fill: var(--fill-color);\n",
              "    height: 32px;\n",
              "    padding: 0;\n",
              "    width: 32px;\n",
              "  }\n",
              "\n",
              "  .colab-df-quickchart:hover {\n",
              "    background-color: var(--hover-bg-color);\n",
              "    box-shadow: 0 1px 2px rgba(60, 64, 67, 0.3), 0 1px 3px 1px rgba(60, 64, 67, 0.15);\n",
              "    fill: var(--button-hover-fill-color);\n",
              "  }\n",
              "\n",
              "  .colab-df-quickchart-complete:disabled,\n",
              "  .colab-df-quickchart-complete:disabled:hover {\n",
              "    background-color: var(--disabled-bg-color);\n",
              "    fill: var(--disabled-fill-color);\n",
              "    box-shadow: none;\n",
              "  }\n",
              "\n",
              "  .colab-df-spinner {\n",
              "    border: 2px solid var(--fill-color);\n",
              "    border-color: transparent;\n",
              "    border-bottom-color: var(--fill-color);\n",
              "    animation:\n",
              "      spin 1s steps(1) infinite;\n",
              "  }\n",
              "\n",
              "  @keyframes spin {\n",
              "    0% {\n",
              "      border-color: transparent;\n",
              "      border-bottom-color: var(--fill-color);\n",
              "      border-left-color: var(--fill-color);\n",
              "    }\n",
              "    20% {\n",
              "      border-color: transparent;\n",
              "      border-left-color: var(--fill-color);\n",
              "      border-top-color: var(--fill-color);\n",
              "    }\n",
              "    30% {\n",
              "      border-color: transparent;\n",
              "      border-left-color: var(--fill-color);\n",
              "      border-top-color: var(--fill-color);\n",
              "      border-right-color: var(--fill-color);\n",
              "    }\n",
              "    40% {\n",
              "      border-color: transparent;\n",
              "      border-right-color: var(--fill-color);\n",
              "      border-top-color: var(--fill-color);\n",
              "    }\n",
              "    60% {\n",
              "      border-color: transparent;\n",
              "      border-right-color: var(--fill-color);\n",
              "    }\n",
              "    80% {\n",
              "      border-color: transparent;\n",
              "      border-right-color: var(--fill-color);\n",
              "      border-bottom-color: var(--fill-color);\n",
              "    }\n",
              "    90% {\n",
              "      border-color: transparent;\n",
              "      border-bottom-color: var(--fill-color);\n",
              "    }\n",
              "  }\n",
              "</style>\n",
              "\n",
              "  <script>\n",
              "    async function quickchart(key) {\n",
              "      const quickchartButtonEl =\n",
              "        document.querySelector('#' + key + ' button');\n",
              "      quickchartButtonEl.disabled = true;  // To prevent multiple clicks.\n",
              "      quickchartButtonEl.classList.add('colab-df-spinner');\n",
              "      try {\n",
              "        const charts = await google.colab.kernel.invokeFunction(\n",
              "            'suggestCharts', [key], {});\n",
              "      } catch (error) {\n",
              "        console.error('Error during call to suggestCharts:', error);\n",
              "      }\n",
              "      quickchartButtonEl.classList.remove('colab-df-spinner');\n",
              "      quickchartButtonEl.classList.add('colab-df-quickchart-complete');\n",
              "    }\n",
              "    (() => {\n",
              "      let quickchartButtonEl =\n",
              "        document.querySelector('#df-954fd32d-f765-43d3-922f-a1226ff12935 button');\n",
              "      quickchartButtonEl.style.display =\n",
              "        google.colab.kernel.accessAllowed ? 'block' : 'none';\n",
              "    })();\n",
              "  </script>\n",
              "</div>\n",
              "\n",
              "    </div>\n",
              "  </div>\n"
            ],
            "application/vnd.google.colaboratory.intrinsic+json": {
              "type": "dataframe",
              "variable_name": "df"
            }
          },
          "metadata": {},
          "execution_count": 7
        }
      ],
      "source": [
        "df = pd.read_csv(r'/content/household_power_consumption.txt', sep = ';')\n",
        "df.head()"
      ]
    },
    {
      "cell_type": "code",
      "execution_count": null,
      "metadata": {
        "id": "gJmOhsi99yfI",
        "colab": {
          "base_uri": "https://localhost:8080/"
        },
        "outputId": "330b1465-935a-4f6b-b44f-f6b3d7432dc8"
      },
      "outputs": [
        {
          "output_type": "stream",
          "name": "stdout",
          "text": [
            "<class 'pandas.core.frame.DataFrame'>\n",
            "RangeIndex: 2075259 entries, 0 to 2075258\n",
            "Data columns (total 9 columns):\n",
            " #   Column                 Dtype  \n",
            "---  ------                 -----  \n",
            " 0   Date                   object \n",
            " 1   Time                   object \n",
            " 2   Global_active_power    object \n",
            " 3   Global_reactive_power  object \n",
            " 4   Voltage                object \n",
            " 5   Global_intensity       object \n",
            " 6   Sub_metering_1         object \n",
            " 7   Sub_metering_2         object \n",
            " 8   Sub_metering_3         float64\n",
            "dtypes: float64(1), object(8)\n",
            "memory usage: 142.5+ MB\n"
          ]
        }
      ],
      "source": [
        "# Dataset Information\n",
        "df.info()"
      ]
    },
    {
      "cell_type": "markdown",
      "metadata": {
        "id": "MNluA36TAsrX"
      },
      "source": [
        "Dataset contaisns the string values. So we will have convert it to the numeric values and then remove all those string values that could not convert to numeric and became the missing values."
      ]
    },
    {
      "cell_type": "code",
      "execution_count": null,
      "metadata": {
        "id": "aRA4WFtl-Uhf",
        "colab": {
          "base_uri": "https://localhost:8080/",
          "height": 431
        },
        "outputId": "1835e43d-a39e-4178-ccdc-c85bc4f2d8c4"
      },
      "outputs": [
        {
          "output_type": "execute_result",
          "data": {
            "text/plain": [
              "                           Date      Time Global_active_power  \\\n",
              "datetime                                                        \n",
              "2006-12-16 17:24:00  16/12/2006  17:24:00               4.216   \n",
              "2006-12-16 17:25:00  16/12/2006  17:25:00               5.360   \n",
              "2006-12-16 17:26:00  16/12/2006  17:26:00               5.374   \n",
              "2006-12-16 17:27:00  16/12/2006  17:27:00               5.388   \n",
              "2006-12-16 17:28:00  16/12/2006  17:28:00               3.666   \n",
              "\n",
              "                    Global_reactive_power  Voltage Global_intensity  \\\n",
              "datetime                                                              \n",
              "2006-12-16 17:24:00                 0.418  234.840           18.400   \n",
              "2006-12-16 17:25:00                 0.436  233.630           23.000   \n",
              "2006-12-16 17:26:00                 0.498  233.290           23.000   \n",
              "2006-12-16 17:27:00                 0.502  233.740           23.000   \n",
              "2006-12-16 17:28:00                 0.528  235.680           15.800   \n",
              "\n",
              "                    Sub_metering_1 Sub_metering_2  Sub_metering_3  \n",
              "datetime                                                           \n",
              "2006-12-16 17:24:00          0.000          1.000            17.0  \n",
              "2006-12-16 17:25:00          0.000          1.000            16.0  \n",
              "2006-12-16 17:26:00          0.000          2.000            17.0  \n",
              "2006-12-16 17:27:00          0.000          1.000            17.0  \n",
              "2006-12-16 17:28:00          0.000          1.000            17.0  "
            ],
            "text/html": [
              "\n",
              "  <div id=\"df-1fddecc4-cb4a-44e8-89a1-d7f61f0680d4\" class=\"colab-df-container\">\n",
              "    <div>\n",
              "<style scoped>\n",
              "    .dataframe tbody tr th:only-of-type {\n",
              "        vertical-align: middle;\n",
              "    }\n",
              "\n",
              "    .dataframe tbody tr th {\n",
              "        vertical-align: top;\n",
              "    }\n",
              "\n",
              "    .dataframe thead th {\n",
              "        text-align: right;\n",
              "    }\n",
              "</style>\n",
              "<table border=\"1\" class=\"dataframe\">\n",
              "  <thead>\n",
              "    <tr style=\"text-align: right;\">\n",
              "      <th></th>\n",
              "      <th>Date</th>\n",
              "      <th>Time</th>\n",
              "      <th>Global_active_power</th>\n",
              "      <th>Global_reactive_power</th>\n",
              "      <th>Voltage</th>\n",
              "      <th>Global_intensity</th>\n",
              "      <th>Sub_metering_1</th>\n",
              "      <th>Sub_metering_2</th>\n",
              "      <th>Sub_metering_3</th>\n",
              "    </tr>\n",
              "    <tr>\n",
              "      <th>datetime</th>\n",
              "      <th></th>\n",
              "      <th></th>\n",
              "      <th></th>\n",
              "      <th></th>\n",
              "      <th></th>\n",
              "      <th></th>\n",
              "      <th></th>\n",
              "      <th></th>\n",
              "      <th></th>\n",
              "    </tr>\n",
              "  </thead>\n",
              "  <tbody>\n",
              "    <tr>\n",
              "      <th>2006-12-16 17:24:00</th>\n",
              "      <td>16/12/2006</td>\n",
              "      <td>17:24:00</td>\n",
              "      <td>4.216</td>\n",
              "      <td>0.418</td>\n",
              "      <td>234.840</td>\n",
              "      <td>18.400</td>\n",
              "      <td>0.000</td>\n",
              "      <td>1.000</td>\n",
              "      <td>17.0</td>\n",
              "    </tr>\n",
              "    <tr>\n",
              "      <th>2006-12-16 17:25:00</th>\n",
              "      <td>16/12/2006</td>\n",
              "      <td>17:25:00</td>\n",
              "      <td>5.360</td>\n",
              "      <td>0.436</td>\n",
              "      <td>233.630</td>\n",
              "      <td>23.000</td>\n",
              "      <td>0.000</td>\n",
              "      <td>1.000</td>\n",
              "      <td>16.0</td>\n",
              "    </tr>\n",
              "    <tr>\n",
              "      <th>2006-12-16 17:26:00</th>\n",
              "      <td>16/12/2006</td>\n",
              "      <td>17:26:00</td>\n",
              "      <td>5.374</td>\n",
              "      <td>0.498</td>\n",
              "      <td>233.290</td>\n",
              "      <td>23.000</td>\n",
              "      <td>0.000</td>\n",
              "      <td>2.000</td>\n",
              "      <td>17.0</td>\n",
              "    </tr>\n",
              "    <tr>\n",
              "      <th>2006-12-16 17:27:00</th>\n",
              "      <td>16/12/2006</td>\n",
              "      <td>17:27:00</td>\n",
              "      <td>5.388</td>\n",
              "      <td>0.502</td>\n",
              "      <td>233.740</td>\n",
              "      <td>23.000</td>\n",
              "      <td>0.000</td>\n",
              "      <td>1.000</td>\n",
              "      <td>17.0</td>\n",
              "    </tr>\n",
              "    <tr>\n",
              "      <th>2006-12-16 17:28:00</th>\n",
              "      <td>16/12/2006</td>\n",
              "      <td>17:28:00</td>\n",
              "      <td>3.666</td>\n",
              "      <td>0.528</td>\n",
              "      <td>235.680</td>\n",
              "      <td>15.800</td>\n",
              "      <td>0.000</td>\n",
              "      <td>1.000</td>\n",
              "      <td>17.0</td>\n",
              "    </tr>\n",
              "  </tbody>\n",
              "</table>\n",
              "</div>\n",
              "    <div class=\"colab-df-buttons\">\n",
              "\n",
              "  <div class=\"colab-df-container\">\n",
              "    <button class=\"colab-df-convert\" onclick=\"convertToInteractive('df-1fddecc4-cb4a-44e8-89a1-d7f61f0680d4')\"\n",
              "            title=\"Convert this dataframe to an interactive table.\"\n",
              "            style=\"display:none;\">\n",
              "\n",
              "  <svg xmlns=\"http://www.w3.org/2000/svg\" height=\"24px\" viewBox=\"0 -960 960 960\">\n",
              "    <path d=\"M120-120v-720h720v720H120Zm60-500h600v-160H180v160Zm220 220h160v-160H400v160Zm0 220h160v-160H400v160ZM180-400h160v-160H180v160Zm440 0h160v-160H620v160ZM180-180h160v-160H180v160Zm440 0h160v-160H620v160Z\"/>\n",
              "  </svg>\n",
              "    </button>\n",
              "\n",
              "  <style>\n",
              "    .colab-df-container {\n",
              "      display:flex;\n",
              "      gap: 12px;\n",
              "    }\n",
              "\n",
              "    .colab-df-convert {\n",
              "      background-color: #E8F0FE;\n",
              "      border: none;\n",
              "      border-radius: 50%;\n",
              "      cursor: pointer;\n",
              "      display: none;\n",
              "      fill: #1967D2;\n",
              "      height: 32px;\n",
              "      padding: 0 0 0 0;\n",
              "      width: 32px;\n",
              "    }\n",
              "\n",
              "    .colab-df-convert:hover {\n",
              "      background-color: #E2EBFA;\n",
              "      box-shadow: 0px 1px 2px rgba(60, 64, 67, 0.3), 0px 1px 3px 1px rgba(60, 64, 67, 0.15);\n",
              "      fill: #174EA6;\n",
              "    }\n",
              "\n",
              "    .colab-df-buttons div {\n",
              "      margin-bottom: 4px;\n",
              "    }\n",
              "\n",
              "    [theme=dark] .colab-df-convert {\n",
              "      background-color: #3B4455;\n",
              "      fill: #D2E3FC;\n",
              "    }\n",
              "\n",
              "    [theme=dark] .colab-df-convert:hover {\n",
              "      background-color: #434B5C;\n",
              "      box-shadow: 0px 1px 3px 1px rgba(0, 0, 0, 0.15);\n",
              "      filter: drop-shadow(0px 1px 2px rgba(0, 0, 0, 0.3));\n",
              "      fill: #FFFFFF;\n",
              "    }\n",
              "  </style>\n",
              "\n",
              "    <script>\n",
              "      const buttonEl =\n",
              "        document.querySelector('#df-1fddecc4-cb4a-44e8-89a1-d7f61f0680d4 button.colab-df-convert');\n",
              "      buttonEl.style.display =\n",
              "        google.colab.kernel.accessAllowed ? 'block' : 'none';\n",
              "\n",
              "      async function convertToInteractive(key) {\n",
              "        const element = document.querySelector('#df-1fddecc4-cb4a-44e8-89a1-d7f61f0680d4');\n",
              "        const dataTable =\n",
              "          await google.colab.kernel.invokeFunction('convertToInteractive',\n",
              "                                                    [key], {});\n",
              "        if (!dataTable) return;\n",
              "\n",
              "        const docLinkHtml = 'Like what you see? Visit the ' +\n",
              "          '<a target=\"_blank\" href=https://colab.research.google.com/notebooks/data_table.ipynb>data table notebook</a>'\n",
              "          + ' to learn more about interactive tables.';\n",
              "        element.innerHTML = '';\n",
              "        dataTable['output_type'] = 'display_data';\n",
              "        await google.colab.output.renderOutput(dataTable, element);\n",
              "        const docLink = document.createElement('div');\n",
              "        docLink.innerHTML = docLinkHtml;\n",
              "        element.appendChild(docLink);\n",
              "      }\n",
              "    </script>\n",
              "  </div>\n",
              "\n",
              "\n",
              "<div id=\"df-882d424c-d0bc-4cd4-8ff9-83e8142cb07e\">\n",
              "  <button class=\"colab-df-quickchart\" onclick=\"quickchart('df-882d424c-d0bc-4cd4-8ff9-83e8142cb07e')\"\n",
              "            title=\"Suggest charts\"\n",
              "            style=\"display:none;\">\n",
              "\n",
              "<svg xmlns=\"http://www.w3.org/2000/svg\" height=\"24px\"viewBox=\"0 0 24 24\"\n",
              "     width=\"24px\">\n",
              "    <g>\n",
              "        <path d=\"M19 3H5c-1.1 0-2 .9-2 2v14c0 1.1.9 2 2 2h14c1.1 0 2-.9 2-2V5c0-1.1-.9-2-2-2zM9 17H7v-7h2v7zm4 0h-2V7h2v10zm4 0h-2v-4h2v4z\"/>\n",
              "    </g>\n",
              "</svg>\n",
              "  </button>\n",
              "\n",
              "<style>\n",
              "  .colab-df-quickchart {\n",
              "      --bg-color: #E8F0FE;\n",
              "      --fill-color: #1967D2;\n",
              "      --hover-bg-color: #E2EBFA;\n",
              "      --hover-fill-color: #174EA6;\n",
              "      --disabled-fill-color: #AAA;\n",
              "      --disabled-bg-color: #DDD;\n",
              "  }\n",
              "\n",
              "  [theme=dark] .colab-df-quickchart {\n",
              "      --bg-color: #3B4455;\n",
              "      --fill-color: #D2E3FC;\n",
              "      --hover-bg-color: #434B5C;\n",
              "      --hover-fill-color: #FFFFFF;\n",
              "      --disabled-bg-color: #3B4455;\n",
              "      --disabled-fill-color: #666;\n",
              "  }\n",
              "\n",
              "  .colab-df-quickchart {\n",
              "    background-color: var(--bg-color);\n",
              "    border: none;\n",
              "    border-radius: 50%;\n",
              "    cursor: pointer;\n",
              "    display: none;\n",
              "    fill: var(--fill-color);\n",
              "    height: 32px;\n",
              "    padding: 0;\n",
              "    width: 32px;\n",
              "  }\n",
              "\n",
              "  .colab-df-quickchart:hover {\n",
              "    background-color: var(--hover-bg-color);\n",
              "    box-shadow: 0 1px 2px rgba(60, 64, 67, 0.3), 0 1px 3px 1px rgba(60, 64, 67, 0.15);\n",
              "    fill: var(--button-hover-fill-color);\n",
              "  }\n",
              "\n",
              "  .colab-df-quickchart-complete:disabled,\n",
              "  .colab-df-quickchart-complete:disabled:hover {\n",
              "    background-color: var(--disabled-bg-color);\n",
              "    fill: var(--disabled-fill-color);\n",
              "    box-shadow: none;\n",
              "  }\n",
              "\n",
              "  .colab-df-spinner {\n",
              "    border: 2px solid var(--fill-color);\n",
              "    border-color: transparent;\n",
              "    border-bottom-color: var(--fill-color);\n",
              "    animation:\n",
              "      spin 1s steps(1) infinite;\n",
              "  }\n",
              "\n",
              "  @keyframes spin {\n",
              "    0% {\n",
              "      border-color: transparent;\n",
              "      border-bottom-color: var(--fill-color);\n",
              "      border-left-color: var(--fill-color);\n",
              "    }\n",
              "    20% {\n",
              "      border-color: transparent;\n",
              "      border-left-color: var(--fill-color);\n",
              "      border-top-color: var(--fill-color);\n",
              "    }\n",
              "    30% {\n",
              "      border-color: transparent;\n",
              "      border-left-color: var(--fill-color);\n",
              "      border-top-color: var(--fill-color);\n",
              "      border-right-color: var(--fill-color);\n",
              "    }\n",
              "    40% {\n",
              "      border-color: transparent;\n",
              "      border-right-color: var(--fill-color);\n",
              "      border-top-color: var(--fill-color);\n",
              "    }\n",
              "    60% {\n",
              "      border-color: transparent;\n",
              "      border-right-color: var(--fill-color);\n",
              "    }\n",
              "    80% {\n",
              "      border-color: transparent;\n",
              "      border-right-color: var(--fill-color);\n",
              "      border-bottom-color: var(--fill-color);\n",
              "    }\n",
              "    90% {\n",
              "      border-color: transparent;\n",
              "      border-bottom-color: var(--fill-color);\n",
              "    }\n",
              "  }\n",
              "</style>\n",
              "\n",
              "  <script>\n",
              "    async function quickchart(key) {\n",
              "      const quickchartButtonEl =\n",
              "        document.querySelector('#' + key + ' button');\n",
              "      quickchartButtonEl.disabled = true;  // To prevent multiple clicks.\n",
              "      quickchartButtonEl.classList.add('colab-df-spinner');\n",
              "      try {\n",
              "        const charts = await google.colab.kernel.invokeFunction(\n",
              "            'suggestCharts', [key], {});\n",
              "      } catch (error) {\n",
              "        console.error('Error during call to suggestCharts:', error);\n",
              "      }\n",
              "      quickchartButtonEl.classList.remove('colab-df-spinner');\n",
              "      quickchartButtonEl.classList.add('colab-df-quickchart-complete');\n",
              "    }\n",
              "    (() => {\n",
              "      let quickchartButtonEl =\n",
              "        document.querySelector('#df-882d424c-d0bc-4cd4-8ff9-83e8142cb07e button');\n",
              "      quickchartButtonEl.style.display =\n",
              "        google.colab.kernel.accessAllowed ? 'block' : 'none';\n",
              "    })();\n",
              "  </script>\n",
              "</div>\n",
              "\n",
              "    </div>\n",
              "  </div>\n"
            ],
            "application/vnd.google.colaboratory.intrinsic+json": {
              "type": "dataframe",
              "variable_name": "df"
            }
          },
          "metadata": {},
          "execution_count": 9
        }
      ],
      "source": [
        "# Merging time and date to datetime\n",
        "df['datetime'] = pd.to_datetime(df['Date'] + ' ' + df['Time'], format = '%d/%m/%Y %H:%M:%S')\n",
        "\n",
        "# Set Datetime as index\n",
        "df.set_index('datetime', inplace = True)\n",
        "\n",
        "# Dataset view\n",
        "df.head()"
      ]
    },
    {
      "cell_type": "code",
      "execution_count": null,
      "metadata": {
        "id": "WHDqrRGN_K9i",
        "colab": {
          "base_uri": "https://localhost:8080/"
        },
        "outputId": "e20a903e-bfa3-468b-9a4d-4c70e86b72cc"
      },
      "outputs": [
        {
          "output_type": "execute_result",
          "data": {
            "text/plain": [
              "Index(['Global_active_power', 'Global_reactive_power', 'Voltage',\n",
              "       'Global_intensity', 'Sub_metering_1', 'Sub_metering_2',\n",
              "       'Sub_metering_3'],\n",
              "      dtype='object')"
            ]
          },
          "metadata": {},
          "execution_count": 10
        }
      ],
      "source": [
        "# Dropping the Date and time columns\n",
        "df.drop(columns = ['Date', 'Time'], inplace = True)\n",
        "\n",
        "df.columns"
      ]
    },
    {
      "cell_type": "code",
      "execution_count": null,
      "metadata": {
        "id": "cQr8PJAOsTPP",
        "colab": {
          "base_uri": "https://localhost:8080/"
        },
        "outputId": "d0e765ca-94d7-42e5-d856-9c8d756f251d"
      },
      "outputs": [
        {
          "output_type": "stream",
          "name": "stdout",
          "text": [
            "<class 'pandas.core.frame.DataFrame'>\n",
            "DatetimeIndex: 2075259 entries, 2006-12-16 17:24:00 to 2010-11-26 21:02:00\n",
            "Data columns (total 7 columns):\n",
            " #   Column                 Dtype  \n",
            "---  ------                 -----  \n",
            " 0   Global_active_power    float64\n",
            " 1   Global_reactive_power  float64\n",
            " 2   Voltage                float64\n",
            " 3   Global_intensity       float64\n",
            " 4   Sub_metering_1         float64\n",
            " 5   Sub_metering_2         float64\n",
            " 6   Sub_metering_3         float64\n",
            "dtypes: float64(7)\n",
            "memory usage: 126.7 MB\n"
          ]
        }
      ],
      "source": [
        "# Converting the non-numeric features to the numeric\n",
        "for col in df.columns:\n",
        "  df[col] = pd.to_numeric(df[col], errors = 'coerce')\n",
        "\n",
        "df.info()"
      ]
    },
    {
      "cell_type": "code",
      "execution_count": null,
      "metadata": {
        "id": "RmZRCn2Mtbyg",
        "colab": {
          "base_uri": "https://localhost:8080/"
        },
        "outputId": "9a0b031c-8faa-44a5-fec5-fed53daa173a"
      },
      "outputs": [
        {
          "output_type": "stream",
          "name": "stdout",
          "text": [
            "Null values:\n",
            "\n",
            "Global_active_power      25979\n",
            "Global_reactive_power    25979\n",
            "Voltage                  25979\n",
            "Global_intensity         25979\n",
            "Sub_metering_1           25979\n",
            "Sub_metering_2           25979\n",
            "Sub_metering_3           25979\n",
            "dtype: int64\n",
            "Missing values:\n",
            "\n",
            "Global_active_power      25979\n",
            "Global_reactive_power    25979\n",
            "Voltage                  25979\n",
            "Global_intensity         25979\n",
            "Sub_metering_1           25979\n",
            "Sub_metering_2           25979\n",
            "Sub_metering_3           25979\n",
            "dtype: int64\n"
          ]
        }
      ],
      "source": [
        "# Finding the null values\n",
        "print(f'Null values:\\n')\n",
        "print(df.isnull().sum())\n",
        "\n",
        "# Finding the missing values\n",
        "print(f'Missing values:\\n')\n",
        "print(df.isna().sum())"
      ]
    },
    {
      "cell_type": "markdown",
      "metadata": {
        "id": "7xveu4Y8vnGH"
      },
      "source": [
        "Dataset contains missing and null values. So our next sep should be to remove null or missing values. However, our dataset is time series so the continuity and relation of previous and after values is importan. So if this consistency is lost then it would affect our prediction.\n",
        "Therefore, in order to solve such problems we will use ffill and bffill (forward and backword fill) methods to fill the missing values so that consistency would not be last."
      ]
    },
    {
      "cell_type": "code",
      "execution_count": null,
      "metadata": {
        "id": "MwhFvQCZtT8C",
        "colab": {
          "base_uri": "https://localhost:8080/"
        },
        "outputId": "6ce852b2-0567-4468-a6e0-294a6d9cd7b1"
      },
      "outputs": [
        {
          "output_type": "stream",
          "name": "stdout",
          "text": [
            "Null values:\n",
            "\n",
            "Global_active_power      0\n",
            "Global_reactive_power    0\n",
            "Voltage                  0\n",
            "Global_intensity         0\n",
            "Sub_metering_1           0\n",
            "Sub_metering_2           0\n",
            "Sub_metering_3           0\n",
            "dtype: int64\n",
            "Missing values:\n",
            "\n",
            "Global_active_power      0\n",
            "Global_reactive_power    0\n",
            "Voltage                  0\n",
            "Global_intensity         0\n",
            "Sub_metering_1           0\n",
            "Sub_metering_2           0\n",
            "Sub_metering_3           0\n",
            "dtype: int64\n"
          ]
        }
      ],
      "source": [
        "# Filling missing and null values\n",
        "df = df.ffill().bfill()\n",
        "\n",
        "# Finding the null values\n",
        "print(f'Null values:\\n')\n",
        "print(df.isnull().sum())\n",
        "\n",
        "# Finding the missing values\n",
        "print(f'Missing values:\\n')\n",
        "print(df.isna().sum())"
      ]
    },
    {
      "cell_type": "code",
      "execution_count": null,
      "metadata": {
        "id": "p14dTzdzwkP5",
        "colab": {
          "base_uri": "https://localhost:8080/",
          "height": 289
        },
        "outputId": "ed73274f-7d93-4a80-eb77-52a1e05f6a78"
      },
      "outputs": [
        {
          "output_type": "execute_result",
          "data": {
            "text/plain": [
              "                           count        mean       std      min      25%  \\\n",
              "Global_active_power    2075259.0    1.086168  1.053172    0.076    0.308   \n",
              "Global_reactive_power  2075259.0    0.123328  0.112514    0.000    0.048   \n",
              "Voltage                2075259.0  240.841608  3.235574  223.200  239.000   \n",
              "Global_intensity       2075259.0    4.604226  4.426775    0.200    1.400   \n",
              "Sub_metering_1         2075259.0    1.110995  6.115908    0.000    0.000   \n",
              "Sub_metering_2         2075259.0    1.287958  5.786865    0.000    0.000   \n",
              "Sub_metering_3         2075259.0    6.416570  8.419505    0.000    0.000   \n",
              "\n",
              "                           50%      75%      max      skew   kurtosis  \n",
              "Global_active_power      0.598    1.524   11.122  1.797454   4.281408  \n",
              "Global_reactive_power    0.100    0.194    1.390  1.265232   2.626383  \n",
              "Voltage                241.020  242.870  254.150 -0.323726   0.718285  \n",
              "Global_intensity         2.600    6.400   48.400  1.860937   4.669535  \n",
              "Sub_metering_1           0.000    0.000   88.000  5.983578  36.140909  \n",
              "Sub_metering_2           0.000    1.000   80.000  7.135711  58.672685  \n",
              "Sub_metering_3           1.000   17.000   31.000  0.736887  -1.264991  "
            ],
            "text/html": [
              "\n",
              "  <div id=\"df-794ce838-4d82-443d-b5e6-2b7d016be80f\" class=\"colab-df-container\">\n",
              "    <div>\n",
              "<style scoped>\n",
              "    .dataframe tbody tr th:only-of-type {\n",
              "        vertical-align: middle;\n",
              "    }\n",
              "\n",
              "    .dataframe tbody tr th {\n",
              "        vertical-align: top;\n",
              "    }\n",
              "\n",
              "    .dataframe thead th {\n",
              "        text-align: right;\n",
              "    }\n",
              "</style>\n",
              "<table border=\"1\" class=\"dataframe\">\n",
              "  <thead>\n",
              "    <tr style=\"text-align: right;\">\n",
              "      <th></th>\n",
              "      <th>count</th>\n",
              "      <th>mean</th>\n",
              "      <th>std</th>\n",
              "      <th>min</th>\n",
              "      <th>25%</th>\n",
              "      <th>50%</th>\n",
              "      <th>75%</th>\n",
              "      <th>max</th>\n",
              "      <th>skew</th>\n",
              "      <th>kurtosis</th>\n",
              "    </tr>\n",
              "  </thead>\n",
              "  <tbody>\n",
              "    <tr>\n",
              "      <th>Global_active_power</th>\n",
              "      <td>2075259.0</td>\n",
              "      <td>1.086168</td>\n",
              "      <td>1.053172</td>\n",
              "      <td>0.076</td>\n",
              "      <td>0.308</td>\n",
              "      <td>0.598</td>\n",
              "      <td>1.524</td>\n",
              "      <td>11.122</td>\n",
              "      <td>1.797454</td>\n",
              "      <td>4.281408</td>\n",
              "    </tr>\n",
              "    <tr>\n",
              "      <th>Global_reactive_power</th>\n",
              "      <td>2075259.0</td>\n",
              "      <td>0.123328</td>\n",
              "      <td>0.112514</td>\n",
              "      <td>0.000</td>\n",
              "      <td>0.048</td>\n",
              "      <td>0.100</td>\n",
              "      <td>0.194</td>\n",
              "      <td>1.390</td>\n",
              "      <td>1.265232</td>\n",
              "      <td>2.626383</td>\n",
              "    </tr>\n",
              "    <tr>\n",
              "      <th>Voltage</th>\n",
              "      <td>2075259.0</td>\n",
              "      <td>240.841608</td>\n",
              "      <td>3.235574</td>\n",
              "      <td>223.200</td>\n",
              "      <td>239.000</td>\n",
              "      <td>241.020</td>\n",
              "      <td>242.870</td>\n",
              "      <td>254.150</td>\n",
              "      <td>-0.323726</td>\n",
              "      <td>0.718285</td>\n",
              "    </tr>\n",
              "    <tr>\n",
              "      <th>Global_intensity</th>\n",
              "      <td>2075259.0</td>\n",
              "      <td>4.604226</td>\n",
              "      <td>4.426775</td>\n",
              "      <td>0.200</td>\n",
              "      <td>1.400</td>\n",
              "      <td>2.600</td>\n",
              "      <td>6.400</td>\n",
              "      <td>48.400</td>\n",
              "      <td>1.860937</td>\n",
              "      <td>4.669535</td>\n",
              "    </tr>\n",
              "    <tr>\n",
              "      <th>Sub_metering_1</th>\n",
              "      <td>2075259.0</td>\n",
              "      <td>1.110995</td>\n",
              "      <td>6.115908</td>\n",
              "      <td>0.000</td>\n",
              "      <td>0.000</td>\n",
              "      <td>0.000</td>\n",
              "      <td>0.000</td>\n",
              "      <td>88.000</td>\n",
              "      <td>5.983578</td>\n",
              "      <td>36.140909</td>\n",
              "    </tr>\n",
              "    <tr>\n",
              "      <th>Sub_metering_2</th>\n",
              "      <td>2075259.0</td>\n",
              "      <td>1.287958</td>\n",
              "      <td>5.786865</td>\n",
              "      <td>0.000</td>\n",
              "      <td>0.000</td>\n",
              "      <td>0.000</td>\n",
              "      <td>1.000</td>\n",
              "      <td>80.000</td>\n",
              "      <td>7.135711</td>\n",
              "      <td>58.672685</td>\n",
              "    </tr>\n",
              "    <tr>\n",
              "      <th>Sub_metering_3</th>\n",
              "      <td>2075259.0</td>\n",
              "      <td>6.416570</td>\n",
              "      <td>8.419505</td>\n",
              "      <td>0.000</td>\n",
              "      <td>0.000</td>\n",
              "      <td>1.000</td>\n",
              "      <td>17.000</td>\n",
              "      <td>31.000</td>\n",
              "      <td>0.736887</td>\n",
              "      <td>-1.264991</td>\n",
              "    </tr>\n",
              "  </tbody>\n",
              "</table>\n",
              "</div>\n",
              "    <div class=\"colab-df-buttons\">\n",
              "\n",
              "  <div class=\"colab-df-container\">\n",
              "    <button class=\"colab-df-convert\" onclick=\"convertToInteractive('df-794ce838-4d82-443d-b5e6-2b7d016be80f')\"\n",
              "            title=\"Convert this dataframe to an interactive table.\"\n",
              "            style=\"display:none;\">\n",
              "\n",
              "  <svg xmlns=\"http://www.w3.org/2000/svg\" height=\"24px\" viewBox=\"0 -960 960 960\">\n",
              "    <path d=\"M120-120v-720h720v720H120Zm60-500h600v-160H180v160Zm220 220h160v-160H400v160Zm0 220h160v-160H400v160ZM180-400h160v-160H180v160Zm440 0h160v-160H620v160ZM180-180h160v-160H180v160Zm440 0h160v-160H620v160Z\"/>\n",
              "  </svg>\n",
              "    </button>\n",
              "\n",
              "  <style>\n",
              "    .colab-df-container {\n",
              "      display:flex;\n",
              "      gap: 12px;\n",
              "    }\n",
              "\n",
              "    .colab-df-convert {\n",
              "      background-color: #E8F0FE;\n",
              "      border: none;\n",
              "      border-radius: 50%;\n",
              "      cursor: pointer;\n",
              "      display: none;\n",
              "      fill: #1967D2;\n",
              "      height: 32px;\n",
              "      padding: 0 0 0 0;\n",
              "      width: 32px;\n",
              "    }\n",
              "\n",
              "    .colab-df-convert:hover {\n",
              "      background-color: #E2EBFA;\n",
              "      box-shadow: 0px 1px 2px rgba(60, 64, 67, 0.3), 0px 1px 3px 1px rgba(60, 64, 67, 0.15);\n",
              "      fill: #174EA6;\n",
              "    }\n",
              "\n",
              "    .colab-df-buttons div {\n",
              "      margin-bottom: 4px;\n",
              "    }\n",
              "\n",
              "    [theme=dark] .colab-df-convert {\n",
              "      background-color: #3B4455;\n",
              "      fill: #D2E3FC;\n",
              "    }\n",
              "\n",
              "    [theme=dark] .colab-df-convert:hover {\n",
              "      background-color: #434B5C;\n",
              "      box-shadow: 0px 1px 3px 1px rgba(0, 0, 0, 0.15);\n",
              "      filter: drop-shadow(0px 1px 2px rgba(0, 0, 0, 0.3));\n",
              "      fill: #FFFFFF;\n",
              "    }\n",
              "  </style>\n",
              "\n",
              "    <script>\n",
              "      const buttonEl =\n",
              "        document.querySelector('#df-794ce838-4d82-443d-b5e6-2b7d016be80f button.colab-df-convert');\n",
              "      buttonEl.style.display =\n",
              "        google.colab.kernel.accessAllowed ? 'block' : 'none';\n",
              "\n",
              "      async function convertToInteractive(key) {\n",
              "        const element = document.querySelector('#df-794ce838-4d82-443d-b5e6-2b7d016be80f');\n",
              "        const dataTable =\n",
              "          await google.colab.kernel.invokeFunction('convertToInteractive',\n",
              "                                                    [key], {});\n",
              "        if (!dataTable) return;\n",
              "\n",
              "        const docLinkHtml = 'Like what you see? Visit the ' +\n",
              "          '<a target=\"_blank\" href=https://colab.research.google.com/notebooks/data_table.ipynb>data table notebook</a>'\n",
              "          + ' to learn more about interactive tables.';\n",
              "        element.innerHTML = '';\n",
              "        dataTable['output_type'] = 'display_data';\n",
              "        await google.colab.output.renderOutput(dataTable, element);\n",
              "        const docLink = document.createElement('div');\n",
              "        docLink.innerHTML = docLinkHtml;\n",
              "        element.appendChild(docLink);\n",
              "      }\n",
              "    </script>\n",
              "  </div>\n",
              "\n",
              "\n",
              "<div id=\"df-534adc01-31c1-4fe2-82aa-1372627aec89\">\n",
              "  <button class=\"colab-df-quickchart\" onclick=\"quickchart('df-534adc01-31c1-4fe2-82aa-1372627aec89')\"\n",
              "            title=\"Suggest charts\"\n",
              "            style=\"display:none;\">\n",
              "\n",
              "<svg xmlns=\"http://www.w3.org/2000/svg\" height=\"24px\"viewBox=\"0 0 24 24\"\n",
              "     width=\"24px\">\n",
              "    <g>\n",
              "        <path d=\"M19 3H5c-1.1 0-2 .9-2 2v14c0 1.1.9 2 2 2h14c1.1 0 2-.9 2-2V5c0-1.1-.9-2-2-2zM9 17H7v-7h2v7zm4 0h-2V7h2v10zm4 0h-2v-4h2v4z\"/>\n",
              "    </g>\n",
              "</svg>\n",
              "  </button>\n",
              "\n",
              "<style>\n",
              "  .colab-df-quickchart {\n",
              "      --bg-color: #E8F0FE;\n",
              "      --fill-color: #1967D2;\n",
              "      --hover-bg-color: #E2EBFA;\n",
              "      --hover-fill-color: #174EA6;\n",
              "      --disabled-fill-color: #AAA;\n",
              "      --disabled-bg-color: #DDD;\n",
              "  }\n",
              "\n",
              "  [theme=dark] .colab-df-quickchart {\n",
              "      --bg-color: #3B4455;\n",
              "      --fill-color: #D2E3FC;\n",
              "      --hover-bg-color: #434B5C;\n",
              "      --hover-fill-color: #FFFFFF;\n",
              "      --disabled-bg-color: #3B4455;\n",
              "      --disabled-fill-color: #666;\n",
              "  }\n",
              "\n",
              "  .colab-df-quickchart {\n",
              "    background-color: var(--bg-color);\n",
              "    border: none;\n",
              "    border-radius: 50%;\n",
              "    cursor: pointer;\n",
              "    display: none;\n",
              "    fill: var(--fill-color);\n",
              "    height: 32px;\n",
              "    padding: 0;\n",
              "    width: 32px;\n",
              "  }\n",
              "\n",
              "  .colab-df-quickchart:hover {\n",
              "    background-color: var(--hover-bg-color);\n",
              "    box-shadow: 0 1px 2px rgba(60, 64, 67, 0.3), 0 1px 3px 1px rgba(60, 64, 67, 0.15);\n",
              "    fill: var(--button-hover-fill-color);\n",
              "  }\n",
              "\n",
              "  .colab-df-quickchart-complete:disabled,\n",
              "  .colab-df-quickchart-complete:disabled:hover {\n",
              "    background-color: var(--disabled-bg-color);\n",
              "    fill: var(--disabled-fill-color);\n",
              "    box-shadow: none;\n",
              "  }\n",
              "\n",
              "  .colab-df-spinner {\n",
              "    border: 2px solid var(--fill-color);\n",
              "    border-color: transparent;\n",
              "    border-bottom-color: var(--fill-color);\n",
              "    animation:\n",
              "      spin 1s steps(1) infinite;\n",
              "  }\n",
              "\n",
              "  @keyframes spin {\n",
              "    0% {\n",
              "      border-color: transparent;\n",
              "      border-bottom-color: var(--fill-color);\n",
              "      border-left-color: var(--fill-color);\n",
              "    }\n",
              "    20% {\n",
              "      border-color: transparent;\n",
              "      border-left-color: var(--fill-color);\n",
              "      border-top-color: var(--fill-color);\n",
              "    }\n",
              "    30% {\n",
              "      border-color: transparent;\n",
              "      border-left-color: var(--fill-color);\n",
              "      border-top-color: var(--fill-color);\n",
              "      border-right-color: var(--fill-color);\n",
              "    }\n",
              "    40% {\n",
              "      border-color: transparent;\n",
              "      border-right-color: var(--fill-color);\n",
              "      border-top-color: var(--fill-color);\n",
              "    }\n",
              "    60% {\n",
              "      border-color: transparent;\n",
              "      border-right-color: var(--fill-color);\n",
              "    }\n",
              "    80% {\n",
              "      border-color: transparent;\n",
              "      border-right-color: var(--fill-color);\n",
              "      border-bottom-color: var(--fill-color);\n",
              "    }\n",
              "    90% {\n",
              "      border-color: transparent;\n",
              "      border-bottom-color: var(--fill-color);\n",
              "    }\n",
              "  }\n",
              "</style>\n",
              "\n",
              "  <script>\n",
              "    async function quickchart(key) {\n",
              "      const quickchartButtonEl =\n",
              "        document.querySelector('#' + key + ' button');\n",
              "      quickchartButtonEl.disabled = true;  // To prevent multiple clicks.\n",
              "      quickchartButtonEl.classList.add('colab-df-spinner');\n",
              "      try {\n",
              "        const charts = await google.colab.kernel.invokeFunction(\n",
              "            'suggestCharts', [key], {});\n",
              "      } catch (error) {\n",
              "        console.error('Error during call to suggestCharts:', error);\n",
              "      }\n",
              "      quickchartButtonEl.classList.remove('colab-df-spinner');\n",
              "      quickchartButtonEl.classList.add('colab-df-quickchart-complete');\n",
              "    }\n",
              "    (() => {\n",
              "      let quickchartButtonEl =\n",
              "        document.querySelector('#df-534adc01-31c1-4fe2-82aa-1372627aec89 button');\n",
              "      quickchartButtonEl.style.display =\n",
              "        google.colab.kernel.accessAllowed ? 'block' : 'none';\n",
              "    })();\n",
              "  </script>\n",
              "</div>\n",
              "\n",
              "    </div>\n",
              "  </div>\n"
            ],
            "application/vnd.google.colaboratory.intrinsic+json": {
              "type": "dataframe",
              "summary": "{\n  \"name\": \"discriptive_stat(df)\",\n  \"rows\": 7,\n  \"fields\": [\n    {\n      \"column\": \"count\",\n      \"properties\": {\n        \"dtype\": \"number\",\n        \"std\": 0.0,\n        \"min\": 2075259.0,\n        \"max\": 2075259.0,\n        \"num_unique_values\": 1,\n        \"samples\": [\n          2075259.0\n        ],\n        \"semantic_type\": \"\",\n        \"description\": \"\"\n      }\n    },\n    {\n      \"column\": \"mean\",\n      \"properties\": {\n        \"dtype\": \"number\",\n        \"std\": 90.13648639729561,\n        \"min\": 0.12332798460336757,\n        \"max\": 240.84160801615593,\n        \"num_unique_values\": 7,\n        \"samples\": [\n          1.0861683519984733\n        ],\n        \"semantic_type\": \"\",\n        \"description\": \"\"\n      }\n    },\n    {\n      \"column\": \"std\",\n      \"properties\": {\n        \"dtype\": \"number\",\n        \"std\": 2.931887203400117,\n        \"min\": 0.11251437988506265,\n        \"max\": 8.419505486252596,\n        \"num_unique_values\": 7,\n        \"samples\": [\n          1.05317212884725\n        ],\n        \"semantic_type\": \"\",\n        \"description\": \"\"\n      }\n    },\n    {\n      \"column\": \"min\",\n      \"properties\": {\n        \"dtype\": \"number\",\n        \"std\": 84.34431669339786,\n        \"min\": 0.0,\n        \"max\": 223.2,\n        \"num_unique_values\": 4,\n        \"samples\": [\n          0.0\n        ],\n        \"semantic_type\": \"\",\n        \"description\": \"\"\n      }\n    },\n    {\n      \"column\": \"25%\",\n      \"properties\": {\n        \"dtype\": \"number\",\n        \"std\": 90.22431683626886,\n        \"min\": 0.0,\n        \"max\": 239.0,\n        \"num_unique_values\": 5,\n        \"samples\": [\n          0.048\n        ],\n        \"semantic_type\": \"\",\n        \"description\": \"\"\n      }\n    },\n    {\n      \"column\": \"50%\",\n      \"properties\": {\n        \"dtype\": \"number\",\n        \"std\": 90.83088090669227,\n        \"min\": 0.0,\n        \"max\": 241.02,\n        \"num_unique_values\": 6,\n        \"samples\": [\n          0.598\n        ],\n        \"semantic_type\": \"\",\n        \"description\": \"\"\n      }\n    },\n    {\n      \"column\": \"75%\",\n      \"properties\": {\n        \"dtype\": \"number\",\n        \"std\": 90.35374338570331,\n        \"min\": 0.0,\n        \"max\": 242.87,\n        \"num_unique_values\": 7,\n        \"samples\": [\n          1.524\n        ],\n        \"semantic_type\": \"\",\n        \"description\": \"\"\n      }\n    },\n    {\n      \"column\": \"max\",\n      \"properties\": {\n        \"dtype\": \"number\",\n        \"std\": 86.03683520999817,\n        \"min\": 1.39,\n        \"max\": 254.15,\n        \"num_unique_values\": 7,\n        \"samples\": [\n          11.122\n        ],\n        \"semantic_type\": \"\",\n        \"description\": \"\"\n      }\n    },\n    {\n      \"column\": \"skew\",\n      \"properties\": {\n        \"dtype\": \"number\",\n        \"std\": 2.7989038334100123,\n        \"min\": -0.3237260416293761,\n        \"max\": 7.135711287427611,\n        \"num_unique_values\": 7,\n        \"samples\": [\n          1.7974540948114492\n        ],\n        \"semantic_type\": \"\",\n        \"description\": \"\"\n      }\n    },\n    {\n      \"column\": \"kurtosis\",\n      \"properties\": {\n        \"dtype\": \"number\",\n        \"std\": 23.08451882841707,\n        \"min\": -1.2649908686996,\n        \"max\": 58.67268507255027,\n        \"num_unique_values\": 7,\n        \"samples\": [\n          4.281408383726895\n        ],\n        \"semantic_type\": \"\",\n        \"description\": \"\"\n      }\n    }\n  ]\n}"
            }
          },
          "metadata": {},
          "execution_count": 14
        }
      ],
      "source": [
        "# Discriptive Statistics\n",
        "def discriptive_stat(data):\n",
        "  summary = data.describe().T\n",
        "  summary['skew'] = data.skew()\n",
        "  summary['kurtosis'] = data.kurtosis()\n",
        "  return summary\n",
        "\n",
        "discriptive_stat(df)"
      ]
    },
    {
      "cell_type": "markdown",
      "metadata": {
        "id": "-9-lA4VTyevM"
      },
      "source": [
        "**Discriptive Statistics:**\n",
        "\n",
        "- Global_active_power: It shows that average usage of the energy is 1.086 but std is 1.05 this shows that mostly the cunsumption of the wnergy is less. However, it is left skewed (skewness < 0) and there are more outliers (kurtosis > 3).\n",
        "- Global_reactive_power: mean is 0.123 and std is 0.112. It also shows that reactive power consumption is less than in general case because it is less than its mean. Whereas, it is left skewed and outliers are less than it was in the Global_active_power (kurtosis < 3).\n",
        "- Voltage: mean is 240.84 and std is 3.23. So it means that voltage supply is more than its mean. Wherasas it is right skewed (skewness < 0) and (kurtosis < 3). so voltage is skewed and also there are outliers.\n",
        "- sub_metering(1 2 3): means and stds show that the consumption of energy in house appliances and rooms is showed to be more than its mean or less than mean.\n",
        "\n"
      ]
    },
    {
      "cell_type": "code",
      "execution_count": null,
      "metadata": {
        "id": "BCLsH6hOyJ_u",
        "colab": {
          "base_uri": "https://localhost:8080/",
          "height": 508
        },
        "outputId": "bd2f8246-0f06-4012-d9f4-4401da80431c"
      },
      "outputs": [
        {
          "output_type": "display_data",
          "data": {
            "text/plain": [
              "<Figure size 600x400 with 2 Axes>"
            ],
            "image/png": "[encoded data removed]"
          },
          "metadata": {}
        }
      ],
      "source": [
        "# Correlation Matrix:\n",
        "plt.figure(figsize = (6,4))\n",
        "corr = df.corr()\n",
        "sns.heatmap(corr, annot = True, cmap = 'Blues', linewidths = 0.01, linecolor = 'black',\n",
        "           fmt = '0.2f', annot_kws = {'fontsize' : 7})\n",
        "plt.xticks(fontsize = 10, rotation = 90)\n",
        "plt.yticks(fontsize = 10, rotation = 0)\n",
        "plt.show()"
      ]
    },
    {
      "cell_type": "markdown",
      "metadata": {
        "id": "n9TTTMgtuv3l"
      },
      "source": [
        "- Global_active_power has stong positive relation with the Global_intensity.\n",
        "- Global_active_power has also positive relation with sub_metering_3."
      ]
    },
    {
      "cell_type": "code",
      "execution_count": null,
      "metadata": {
        "colab": {
          "base_uri": "https://localhost:8080/",
          "height": 328
        },
        "id": "QB_lkmCOrpyd",
        "outputId": "9ca697c7-1df0-434a-f9bb-8e16ad9a69e5"
      },
      "outputs": [
        {
          "output_type": "display_data",
          "data": {
            "text/plain": [
              "<Figure size 1200x600 with 9 Axes>"
            ],
            "image/png": "[encoded data removed]"
          },
          "metadata": {}
        }
      ],
      "source": [
        "n = len(df.columns)\n",
        "nrow = int(np.ceil(n / 3))\n",
        "\n",
        "fig, axes = plt.subplots(nrow, 3, figsize = (12,6))\n",
        "\n",
        "for i, col in enumerate(df.columns):\n",
        "    ax = axes.flat[i]\n",
        "    sns.histplot(df[col], kde = True, ax=ax)\n",
        "    ax.set_title(f'Histogram of {col}')\n",
        "    ax.set_xlabel(col)\n",
        "    ax.set_ylabel('Frequency')\n",
        "    ax.set_xticks([])\n",
        "    ax.set_yticks([])\n",
        "\n",
        "for ax in axes.flat[n:]:\n",
        "    ax.axis('off')\n",
        "\n",
        "fig.tight_layout()\n",
        "plt.show()"
      ]
    },
    {
      "cell_type": "code",
      "execution_count": null,
      "metadata": {
        "id": "UgqfBbwcvT6C",
        "colab": {
          "base_uri": "https://localhost:8080/",
          "height": 645
        },
        "outputId": "32f8a472-4ec7-4d8c-b30a-7bb06d46d741"
      },
      "outputs": [
        {
          "output_type": "display_data",
          "data": {
            "text/plain": [
              "<Figure size 1500x1500 with 9 Axes>"
            ],
            "image/png": "[encoded data removed]"
          },
          "metadata": {}
        }
      ],
      "source": [
        "n = len(df.columns)\n",
        "nrow = int(np.ceil(n / 3))\n",
        "\n",
        "fig, axes = plt.subplots(nrow, 3, figsize = (15, 5 * nrow))\n",
        "\n",
        "axes = axes.flatten()\n",
        "\n",
        "for i, col in enumerate(df.columns):\n",
        "    sns.boxplot(x = df[col], ax = axes[i])\n",
        "    axes[i].set_title(f'Boxplot of {col}')\n",
        "    axes[i].set_xlabel(col)\n",
        "    axes[i].set_xticks([])\n",
        "\n",
        "for j in range(i + 1, len(axes)):\n",
        "    axes[j].axis('off')\n",
        "\n",
        "plt.tight_layout()\n",
        "plt.show()"
      ]
    },
    {
      "cell_type": "markdown",
      "metadata": {
        "id": "3GJORMYDxziD"
      },
      "source": [
        "The figures of histogram and boxplot describe the data as we have described before that there are outliers because of kurtosis' values are away from 3 which denotes that outliers exist.\n",
        "Hence, we will normalize the data so that whole distribution will be in mean = 0 and std = 1. So in other words we will transform data into normal distribution."
      ]
    },
    {
      "cell_type": "markdown",
      "metadata": {
        "id": "_bJCRZ260lMX"
      },
      "source": [
        "### Data Preprocessing:"
      ]
    },
    {
      "cell_type": "code",
      "execution_count": null,
      "metadata": {
        "id": "OlL7UBhj3ecf"
      },
      "outputs": [],
      "source": [
        "# Data Normalization\n",
        "std_scaler = StandardScaler()\n",
        "df_scaled = std_scaler.fit_transform(df)"
      ]
    },
    {
      "cell_type": "code",
      "execution_count": null,
      "metadata": {
        "id": "Qp0P4b9LxW7e",
        "colab": {
          "base_uri": "https://localhost:8080/"
        },
        "outputId": "d29473ef-9466-4aea-bb5e-e7ca6fc461ed"
      },
      "outputs": [
        {
          "output_type": "stream",
          "name": "stdout",
          "text": [
            "X shape: (2075255, 4, 6)\n",
            "y shape: (2075255,)\n"
          ]
        }
      ],
      "source": [
        "# # Create dataset for the LSTM model\n",
        "# def create_lstm_dataset(data, time_steps = 4):\n",
        "#   X, y = [], []\n",
        "\n",
        "#   for i in range(len(data) - time_steps):\n",
        "#     X.append(data[i : i + time_steps])\n",
        "#     y.append(data[i + time_steps])\n",
        "\n",
        "#   return np.array(X), np.array(y)\n",
        "\n",
        "# X, y = create_lstm_dataset(df_scaled, 4)\n",
        "\n",
        "def create_lstm_dataset(data, target_index, time_steps=4):\n",
        "    X, y = [], []\n",
        "    for i in range(len(data) - time_steps):\n",
        "        X.append(data[i:i + time_steps, :])  # Use all features for X\n",
        "        y.append(data[i + time_steps, target_index])  # Use only the target feature for y\n",
        "\n",
        "    # Exclude the target column from X\n",
        "    X = np.array(X)\n",
        "    X = np.delete(X, target_index, axis=2)  # Remove target column from X\n",
        "    return X, np.array(y)\n",
        "\n",
        "# Assuming \"Global_active_power\" is the target\n",
        "target_index = df.columns.get_loc(\"Global_active_power\")\n",
        "\n",
        "# Create X and y datasets\n",
        "X, y = create_lstm_dataset(df_scaled, target_index, time_steps=4)\n",
        "\n",
        "# Check shapes\n",
        "print(\"X shape:\", X.shape)  # (samples, time_steps, features_without_target)\n",
        "print(\"y shape:\", y.shape)  # (samples,)\n"
      ]
    },
    {
      "cell_type": "code",
      "execution_count": null,
      "metadata": {
        "colab": {
          "base_uri": "https://localhost:8080/"
        },
        "id": "UeCIfSYI6sj9",
        "outputId": "d22ecc59-b070-4b9e-cca3-f677900b533c"
      },
      "outputs": [
        {
          "output_type": "stream",
          "name": "stdout",
          "text": [
            "(2075047, 4, 6)\n",
            "(208, 4, 6)\n",
            "(2075047,)\n",
            "(208,)\n"
          ]
        }
      ],
      "source": [
        "# Splitting into train and test sets\n",
        "X_train, X_test, y_train, y_test = train_test_split(X, y, test_size = 0.0001, random_state = 42)\n",
        "\n",
        "print(X_train.shape)\n",
        "print(X_test.shape)\n",
        "print(y_train.shape)\n",
        "print(y_test.shape)"
      ]
    },
    {
      "cell_type": "markdown",
      "metadata": {
        "id": "KrO7e1Rf_ELB"
      },
      "source": [
        "### LSTM Model:"
      ]
    },
    {
      "cell_type": "code",
      "execution_count": null,
      "metadata": {
        "id": "U5u-8Nic7HlS"
      },
      "outputs": [],
      "source": [
        "# Define the early stopping from callbacks\n",
        "early_stopping = EarlyStopping(\n",
        "    monitor = 'val_loss',\n",
        "    patience = 5,\n",
        "    verbose = 1,\n",
        "    restore_best_weights = True\n",
        ")"
      ]
    },
    {
      "cell_type": "code",
      "execution_count": null,
      "metadata": {
        "colab": {
          "base_uri": "https://localhost:8080/",
          "height": 301
        },
        "id": "D2hX4QBN_NTd",
        "outputId": "8184e9ea-1150-4918-e71f-fa9719cbac23"
      },
      "outputs": [
        {
          "output_type": "display_data",
          "data": {
            "text/plain": [
              "\u001b[1mModel: \"sequential\"\u001b[0m\n"
            ],
            "text/html": [
              "<pre style=\"white-space:pre;overflow-x:auto;line-height:normal;font-family:Menlo,'DejaVu Sans Mono',consolas,'Courier New',monospace\"><span style=\"font-weight: bold\">Model: \"sequential\"</span>\n",
              "</pre>\n"
            ]
          },
          "metadata": {}
        },
        {
          "output_type": "display_data",
          "data": {
            "text/plain": [
              "┏━━━━━━━━━━━━━━━━━━━━━━━━━━━━━━━━━━━━━━┳━━━━━━━━━━━━━━━━━━━━━━━━━━━━━┳━━━━━━━━━━━━━━━━━┓\n",
              "┃\u001b[1m \u001b[0m\u001b[1mLayer (type)                        \u001b[0m\u001b[1m \u001b[0m┃\u001b[1m \u001b[0m\u001b[1mOutput Shape               \u001b[0m\u001b[1m \u001b[0m┃\u001b[1m \u001b[0m\u001b[1m        Param #\u001b[0m\u001b[1m \u001b[0m┃\n",
              "┡━━━━━━━━━━━━━━━━━━━━━━━━━━━━━━━━━━━━━━╇━━━━━━━━━━━━━━━━━━━━━━━━━━━━━╇━━━━━━━━━━━━━━━━━┩\n",
              "│ lstm (\u001b[38;5;33mLSTM\u001b[0m)                          │ (\u001b[38;5;45mNone\u001b[0m, \u001b[38;5;34m4\u001b[0m, \u001b[38;5;34m50\u001b[0m)               │          \u001b[38;5;34m11,600\u001b[0m │\n",
              "├──────────────────────────────────────┼─────────────────────────────┼─────────────────┤\n",
              "│ lstm_1 (\u001b[38;5;33mLSTM\u001b[0m)                        │ (\u001b[38;5;45mNone\u001b[0m, \u001b[38;5;34m50\u001b[0m)                  │          \u001b[38;5;34m20,200\u001b[0m │\n",
              "├──────────────────────────────────────┼─────────────────────────────┼─────────────────┤\n",
              "│ dense (\u001b[38;5;33mDense\u001b[0m)                        │ (\u001b[38;5;45mNone\u001b[0m, \u001b[38;5;34m300\u001b[0m)                 │          \u001b[38;5;34m15,300\u001b[0m │\n",
              "├──────────────────────────────────────┼─────────────────────────────┼─────────────────┤\n",
              "│ dense_1 (\u001b[38;5;33mDense\u001b[0m)                      │ (\u001b[38;5;45mNone\u001b[0m, \u001b[38;5;34m1\u001b[0m)                   │             \u001b[38;5;34m301\u001b[0m │\n",
              "└──────────────────────────────────────┴─────────────────────────────┴─────────────────┘\n"
            ],
            "text/html": [
              "<pre style=\"white-space:pre;overflow-x:auto;line-height:normal;font-family:Menlo,'DejaVu Sans Mono',consolas,'Courier New',monospace\">┏━━━━━━━━━━━━━━━━━━━━━━━━━━━━━━━━━━━━━━┳━━━━━━━━━━━━━━━━━━━━━━━━━━━━━┳━━━━━━━━━━━━━━━━━┓\n",
              "┃<span style=\"font-weight: bold\"> Layer (type)                         </span>┃<span style=\"font-weight: bold\"> Output Shape                </span>┃<span style=\"font-weight: bold\">         Param # </span>┃\n",
              "┡━━━━━━━━━━━━━━━━━━━━━━━━━━━━━━━━━━━━━━╇━━━━━━━━━━━━━━━━━━━━━━━━━━━━━╇━━━━━━━━━━━━━━━━━┩\n",
              "│ lstm (<span style=\"color: #0087ff; text-decoration-color: #0087ff\">LSTM</span>)                          │ (<span style=\"color: #00d7ff; text-decoration-color: #00d7ff\">None</span>, <span style=\"color: #00af00; text-decoration-color: #00af00\">4</span>, <span style=\"color: #00af00; text-decoration-color: #00af00\">50</span>)               │          <span style=\"color: #00af00; text-decoration-color: #00af00\">11,600</span> │\n",
              "├──────────────────────────────────────┼─────────────────────────────┼─────────────────┤\n",
              "│ lstm_1 (<span style=\"color: #0087ff; text-decoration-color: #0087ff\">LSTM</span>)                        │ (<span style=\"color: #00d7ff; text-decoration-color: #00d7ff\">None</span>, <span style=\"color: #00af00; text-decoration-color: #00af00\">50</span>)                  │          <span style=\"color: #00af00; text-decoration-color: #00af00\">20,200</span> │\n",
              "├──────────────────────────────────────┼─────────────────────────────┼─────────────────┤\n",
              "│ dense (<span style=\"color: #0087ff; text-decoration-color: #0087ff\">Dense</span>)                        │ (<span style=\"color: #00d7ff; text-decoration-color: #00d7ff\">None</span>, <span style=\"color: #00af00; text-decoration-color: #00af00\">300</span>)                 │          <span style=\"color: #00af00; text-decoration-color: #00af00\">15,300</span> │\n",
              "├──────────────────────────────────────┼─────────────────────────────┼─────────────────┤\n",
              "│ dense_1 (<span style=\"color: #0087ff; text-decoration-color: #0087ff\">Dense</span>)                      │ (<span style=\"color: #00d7ff; text-decoration-color: #00d7ff\">None</span>, <span style=\"color: #00af00; text-decoration-color: #00af00\">1</span>)                   │             <span style=\"color: #00af00; text-decoration-color: #00af00\">301</span> │\n",
              "└──────────────────────────────────────┴─────────────────────────────┴─────────────────┘\n",
              "</pre>\n"
            ]
          },
          "metadata": {}
        },
        {
          "output_type": "display_data",
          "data": {
            "text/plain": [
              "\u001b[1m Total params: \u001b[0m\u001b[38;5;34m47,401\u001b[0m (185.16 KB)\n"
            ],
            "text/html": [
              "<pre style=\"white-space:pre;overflow-x:auto;line-height:normal;font-family:Menlo,'DejaVu Sans Mono',consolas,'Courier New',monospace\"><span style=\"font-weight: bold\"> Total params: </span><span style=\"color: #00af00; text-decoration-color: #00af00\">47,401</span> (185.16 KB)\n",
              "</pre>\n"
            ]
          },
          "metadata": {}
        },
        {
          "output_type": "display_data",
          "data": {
            "text/plain": [
              "\u001b[1m Trainable params: \u001b[0m\u001b[38;5;34m47,401\u001b[0m (185.16 KB)\n"
            ],
            "text/html": [
              "<pre style=\"white-space:pre;overflow-x:auto;line-height:normal;font-family:Menlo,'DejaVu Sans Mono',consolas,'Courier New',monospace\"><span style=\"font-weight: bold\"> Trainable params: </span><span style=\"color: #00af00; text-decoration-color: #00af00\">47,401</span> (185.16 KB)\n",
              "</pre>\n"
            ]
          },
          "metadata": {}
        },
        {
          "output_type": "display_data",
          "data": {
            "text/plain": [
              "\u001b[1m Non-trainable params: \u001b[0m\u001b[38;5;34m0\u001b[0m (0.00 B)\n"
            ],
            "text/html": [
              "<pre style=\"white-space:pre;overflow-x:auto;line-height:normal;font-family:Menlo,'DejaVu Sans Mono',consolas,'Courier New',monospace\"><span style=\"font-weight: bold\"> Non-trainable params: </span><span style=\"color: #00af00; text-decoration-color: #00af00\">0</span> (0.00 B)\n",
              "</pre>\n"
            ]
          },
          "metadata": {}
        }
      ],
      "source": [
        "# LSTM model architecture\n",
        "model = models.Sequential()\n",
        "\n",
        "model.add(layers.LSTM(50, return_sequences = True,\n",
        "                      input_shape = (X_train.shape[1], 7)))\n",
        "model.add(layers.LSTM(50))\n",
        "# model.add(layers.LSTM(500, return_sequences = False))\n",
        "\n",
        "\n",
        "model.add(layers.Dense(300, activation = 'relu'))\n",
        "model.add(layers.Dense(1))\n",
        "\n",
        "model.compile(\n",
        "    optimizer = 'adam',\n",
        "    loss = 'mean_squared_error'\n",
        ")\n",
        "model.summary()"
      ]
    },
    {
      "cell_type": "code",
      "execution_count": null,
      "metadata": {
        "colab": {
          "base_uri": "https://localhost:8080/"
        },
        "id": "-brefF8y_ZNe",
        "outputId": "7595335e-c987-4761-95fc-cad0167e0e23"
      },
      "outputs": [
        {
          "output_type": "stream",
          "name": "stdout",
          "text": [
            "Epoch 1/4\n",
            "\u001b[1m12970/12970\u001b[0m \u001b[32m━━━━━━━━━━━━━━━━━━━━\u001b[0m\u001b[37m\u001b[0m \u001b[1m84s\u001b[0m 6ms/step - loss: 0.0537 - val_loss: 0.0514\n",
            "Epoch 2/4\n",
            "\u001b[1m12970/12970\u001b[0m \u001b[32m━━━━━━━━━━━━━━━━━━━━\u001b[0m\u001b[37m\u001b[0m \u001b[1m140s\u001b[0m 6ms/step - loss: 0.0507 - val_loss: 0.0531\n",
            "Epoch 3/4\n",
            "\u001b[1m12970/12970\u001b[0m \u001b[32m━━━━━━━━━━━━━━━━━━━━\u001b[0m\u001b[37m\u001b[0m \u001b[1m138s\u001b[0m 6ms/step - loss: 0.0491 - val_loss: 0.0479\n",
            "Epoch 4/4\n",
            "\u001b[1m12970/12970\u001b[0m \u001b[32m━━━━━━━━━━━━━━━━━━━━\u001b[0m\u001b[37m\u001b[0m \u001b[1m82s\u001b[0m 6ms/step - loss: 0.0481 - val_loss: 0.0474\n",
            "Restoring model weights from the end of the best epoch: 4.\n"
          ]
        }
      ],
      "source": [
        "history = model.fit(\n",
        "    X_train, y_train,\n",
        "    epochs = 4,\n",
        "    batch_size = 128,\n",
        "    validation_split = 0.2,\n",
        "    callbacks = [early_stopping]\n",
        ")"
      ]
    },
    {
      "cell_type": "code",
      "source": [
        "y_pred = model.predict(X_test)"
      ],
      "metadata": {
        "colab": {
          "base_uri": "https://localhost:8080/"
        },
        "id": "8Qmc13nAZAbg",
        "outputId": "8fb10d17-f4e9-4555-c1de-a7b4ba6f4470"
      },
      "execution_count": null,
      "outputs": [
        {
          "output_type": "stream",
          "name": "stdout",
          "text": [
            "\u001b[1m7/7\u001b[0m \u001b[32m━━━━━━━━━━━━━━━━━━━━\u001b[0m\u001b[37m\u001b[0m \u001b[1m1s\u001b[0m 70ms/step\n"
          ]
        }
      ]
    },
    {
      "cell_type": "code",
      "source": [
        "from sklearn.metrics import mean_absolute_error, mean_squared_error\n",
        "\n",
        "mae = mean_absolute_error(y_test, y_pred)\n",
        "rmse = np.sqrt(mean_squared_error(y_test, y_pred))\n",
        "mape = np.mean(np.abs((y_test - y_pred) / y_test)) * 100\n",
        "\n",
        "print(f'Mean Absolute Error (MAE): {mae}')\n",
        "print(f'Root Mean Squared Error (RMSE): {rmse}')\n",
        "print(f'Mean Absolute Percentage Error (MAPE): {mape}')\n"
      ],
      "metadata": {
        "colab": {
          "base_uri": "https://localhost:8080/"
        },
        "id": "Cexz4CZiIu43",
        "outputId": "4707df12-2199-4acc-fa3e-5804cd720b43"
      },
      "execution_count": null,
      "outputs": [
        {
          "output_type": "stream",
          "name": "stdout",
          "text": [
            "Mean Absolute Error (MAE): 0.08869682739403538\n",
            "Root Mean Squared Error (RMSE): 0.2419461557943522\n",
            "Mean Absolute Percentage Error (MAPE): 193.05974750796017\n"
          ]
        }
      ]
    },
    {
      "cell_type": "markdown",
      "source": [
        "MAE and RMSE are relatively low, which is promising for error magnitude. However, the MAPE being 193% is a concern because it indicates large relative errors.\n",
        "The large value for MAPE is due to the smaller size of the test data because MAPE is sensitive to the outliers and size."
      ],
      "metadata": {
        "id": "ohG59QPpoY0L"
      }
    },
    {
      "cell_type": "markdown",
      "source": [
        "### Conclusion:\n",
        "The LSTM model trained for forecasting Global Active Power demonstrated moderate accuracy based on the evaluation metrics:\n",
        "\n",
        " - Mean Absolute Error (MAE): 0.0887, indicating the average prediction error in absolute terms.\n",
        " -Root Mean Squared Error (RMSE): 0.2419, highlighting a slightly higher penalty for larger errors.\n",
        " - Mean Absolute Percentage Error (MAPE): 193.06%, suggesting relative errors are significant, especially when actual values are small.\n",
        "\n",
        "While the model captures general trends in the data, the high MAPE indicates that its relative performance suffers, particularly for small-scale variations. This could be attributed to the inherent variability in household energy consumption, the limitations of the model architecture, or the need for further fine-tuning and feature engineering.\n",
        "\n",
        "Future work could include experimenting with more advanced architectures, such as hybrid models combining LSTM with attention mechanisms, or enhancing feature engineering with weather data and other contextual information. Additionally, using more robust evaluation strategies, such as time-series cross-validation, could provide deeper insights into the model's generalizability.\n",
        "\n",
        "This project underscores the potential of LSTM networks for energy forecasting while also highlighting areas for improvement to achieve more accurate and reliable predictions.\n",
        "\n"
      ],
      "metadata": {
        "id": "dBhgowH0ERPL"
      }
    },
    {
      "cell_type": "code",
      "source": [],
      "metadata": {
        "id": "BRtrE9uhZXnE"
      },
      "execution_count": null,
      "outputs": []
    }
  ],
  "metadata": {
    "accelerator": "GPU",
    "colab": {
      "gpuType": "T4",
      "provenance": []
    },
    "kernelspec": {
      "display_name": "Python 3",
      "name": "python3"
    },
    "language_info": {
      "name": "python"
    }
  },
  "nbformat": 4,
  "nbformat_minor": 0
}